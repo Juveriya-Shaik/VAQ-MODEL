{
  "nbformat": 4,
  "nbformat_minor": 0,
  "metadata": {
    "colab": {
      "provenance": []
    },
    "kernelspec": {
      "name": "python3",
      "display_name": "Python 3"
    },
    "language_info": {
      "name": "python"
    }
  },
  "cells": [
    {
      "cell_type": "code",
      "execution_count": null,
      "metadata": {
        "colab": {
          "base_uri": "https://localhost:8080/"
        },
        "id": "Sp1L5tWIXOpI",
        "outputId": "19a31874-1d2f-4017-f9dd-4dd6863d0878"
      },
      "outputs": [
        {
          "output_type": "stream",
          "name": "stdout",
          "text": [
            "Enter your filename : MahiRat\n",
            "Enter Your Question = What is the colour of jersey?\n",
            "blue\n"
          ]
        }
      ],
      "source": [
        "from PIL import Image\n",
        "import requests\n",
        "from transformers import AutoProcessor, BlipForQuestionAnswering\n",
        "\n",
        "model = BlipForQuestionAnswering.from_pretrained(\"Salesforce/blip-vqa-base\")\n",
        "processor = AutoProcessor.from_pretrained(\"Salesforce/blip-vqa-base\")\n",
        "\n",
        "filename = input(\"Enter your filename : \")\n",
        "image = Image.open(\"MahiRat.jpg\")\n",
        "\n",
        "text = \"How many players are in the picture?\"\n",
        "label = \"2\"\n",
        "inputs = processor(images=image, text=text, return_tensors=\"pt\")\n",
        "labels = processor(text=label, return_tensors=\"pt\").input_ids\n",
        "\n",
        "inputs[\"labels\"] = labels\n",
        "outputs = model(**inputs)\n",
        "loss = outputs.loss\n",
        "loss.backward()\n",
        "\n",
        "text = input(\"Enter Your Question = \")\n",
        "inputs = processor(images=image, text=text, return_tensors=\"pt\")\n",
        "outputs = model.generate(**inputs)\n",
        "print(processor.decode(outputs[0], skip_special_tokens=True))\n",
        "\n"
      ]
    },
    {
      "cell_type": "code",
      "source": [
        "import requests\n",
        "from PIL import Image\n",
        "from transformers import BlipProcessor, BlipForQuestionAnswering\n",
        "\n",
        "processor = BlipProcessor.from_pretrained(\"Salesforce/blip-vqa-base\")\n",
        "model = BlipForQuestionAnswering.from_pretrained(\"Salesforce/blip-vqa-base\")\n",
        "\n",
        "\n",
        "raw_image = Image.open(\"RoHiRat.png\").convert('RGB')\n",
        "\n",
        "question = \"How many children are there?\"\n",
        "inputs = processor(raw_image, question, return_tensors=\"pt\")\n",
        "\n",
        "out = model.generate(**inputs)\n",
        "print(processor.decode(out[0], skip_special_tokens=True))\n",
        "\n"
      ],
      "metadata": {
        "colab": {
          "base_uri": "https://localhost:8080/"
        },
        "id": "FrZJrMZ3c95e",
        "outputId": "6bf741c8-e36c-4b93-efdf-6725cb246060"
      },
      "execution_count": null,
      "outputs": [
        {
          "output_type": "stream",
          "name": "stdout",
          "text": [
            "3\n"
          ]
        }
      ]
    }
  ]
}